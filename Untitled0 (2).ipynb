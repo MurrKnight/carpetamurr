{
  "nbformat": 4,
  "nbformat_minor": 0,
  "metadata": {
    "colab": {
      "name": "Untitled0.ipynb",
      "provenance": []
    },
    "kernelspec": {
      "name": "python3",
      "display_name": "Python 3"
    },
    "language_info": {
      "name": "python"
    }
  },
  "cells": [
    {
      "cell_type": "code",
      "execution_count": null,
      "metadata": {
        "colab": {
          "base_uri": "https://localhost:8080/"
        },
        "id": "WSMKo7DNoWz9",
        "outputId": "768a0ec6-3127-4acb-b93d-62e61ed16c88"
      },
      "outputs": [
        {
          "output_type": "stream",
          "name": "stdout",
          "text": [
            "ingrerte el primer numero 4\n",
            "ingrerte el primer numero 4\n",
            "operacion a realizar 1\n",
            "8\n"
          ]
        }
      ],
      "source": [
        "num1=int (input('ingrerte el primer numero '))\n",
        "\n",
        "num2=int (input('ingrerte el primer numero '))\n",
        "\n",
        "operacion=int (input('operacion a realizar '))\n",
        "#1 Suma\n",
        "#2 Resta\n",
        "#3 Multiplicacion \n",
        "#4 Division \n",
        "\n",
        "if(operacion==1):\n",
        "  total=num1+num2\n",
        "elif(operacion==2):\n",
        " total=num1-num2\n",
        "elif(operacion==3):\n",
        "  total=num1*num2\n",
        "elif(operacion==4):\n",
        "  total=num1/num2\n",
        "print(total)\n",
        "\n"
      ]
    }
  ]
}